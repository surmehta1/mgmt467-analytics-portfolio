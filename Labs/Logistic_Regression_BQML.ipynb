{
  "cells": [
    {
      "cell_type": "markdown",
      "metadata": {
        "id": "view-in-github",
        "colab_type": "text"
      },
      "source": [
        "<a href=\"https://colab.research.google.com/github/surmehta1/mgmt467-analytics-portfolio/blob/main/Logistic_Regression_BQML.ipynb\" target=\"_parent\"><img src=\"https://colab.research.google.com/assets/colab-badge.svg\" alt=\"Open In Colab\"/></a>"
      ]
    },
    {
      "cell_type": "markdown",
      "id": "eCIk5BPJs01W",
      "metadata": {
        "id": "eCIk5BPJs01W"
      },
      "source": [
        "# 🎬 Netflix Churn in BigQuery ML — Colab Notebook\n",
        "\n",
        "This notebook walks you through a **step-by-step (9-cell) pipeline** to build a **features + label** table (`feat_churn_lite`) from `users` and `watch_history`, followed by a **minimal logistic regression** using **BigQuery ML**.\n",
        "\n",
        "We keep complexity at **Level 4**: basic joins, rolling features, and next-month churn labeling — perfect for a warm-up before adding Gemini-assisted improvements."
      ]
    },
    {
      "cell_type": "markdown",
      "id": "3pWObVrKyXSu",
      "metadata": {
        "id": "3pWObVrKyXSu"
      },
      "source": [
        "## Lab Objectives\n",
        "Build confidence with SQL progressively (Levels 0–4): counts, grouping, date truncation, joins, and window functions.\n",
        "\n",
        "Construct a user×month panel that includes zero-activity months and create rolling 3-month features (r3_sess, r3_min).\n",
        "Define a clean next-month churn label (inactive next month = 1) without data leakage.\n",
        "\n",
        "Orchestrate a reproducible Colab → BigQuery workflow that materializes each step as a table.\n",
        "\n",
        "Train a minimal BigQuery ML logistic regression, evaluate it (AUC, log loss, ROC/PR, confusion matrix), and generate a scored table for the latest month.\n",
        "Practice model discipline: small feature set, clear assumptions, sanity checks, and an auditable pipeline.\n",
        "\n",
        "Use Gemini to synthesize a single-query CTE equivalent of your 9-step pipeline and verify equivalence.\n",
        "\n"
      ]
    },
    {
      "cell_type": "markdown",
      "id": "N2ZLjUWoyr9k",
      "metadata": {
        "id": "N2ZLjUWoyr9k"
      },
      "source": [
        "## Problem Statement\n",
        "You are the data analyst for a streaming platform with three core tables: users, watch_history, and (optionally later) movies. Product leadership wants an early warning signal for which users are likely to be inactive next month so lifecycle marketing can target preventive outreach. Your task is to build a transparent, baseline churn pipeline—staying:\n",
        "* Creates a canonical calendar of months and a user×month grid,\n",
        "* Aggregates watch behavior to monthly sessions and minutes, filling zero-activity months,\n",
        "* Engineers minimal, interpretable rolling features (r3_sess, r3_min),\n",
        "* Defines the label churn_next_month = 1 − active_next_month,\n",
        "* Trains and evaluates a logistic regression using only r3_sess, r3_min, subscription_plan, country, and age,\n",
        "* Produces ranked churn probabilities for the most recent month, and\n",
        "Uses Gemini to compress the pipeline into one CTE query and verify it matches your materialized table.\n",
        "\n",
        "\n",
        "## Constraints\n",
        "Use only past and present information to predict the next month (no peeking into the future).\n",
        "Keep features minimal and documented; label logic must be auditable.\n",
        "Deliverables:\n",
        "* A BigQuery table feat_churn_lite (features + label).\n",
        "* A trained model churn_logreg_lite with evaluation metrics.\n",
        "* A predictions table for the latest month with churn probabilities.\n",
        "* A Gemini-generated single-query CTE and an equivalence check showing parity with your pipeline.\n",
        "\n",
        "Baseline target: model performance meaningfully above random (e.g., AUC > 0.60) with clear notes on next steps to improve."
      ]
    },
    {
      "cell_type": "markdown",
      "id": "UGldg6nQs01W",
      "metadata": {
        "id": "UGldg6nQs01W"
      },
      "source": [
        "## ⬜️ Cell 0 — Setup\n",
        "\n",
        "- Authenticate to Google Cloud from Colab  \n",
        "- Initialize BigQuery client  \n",
        "- Set your **Project ID** and **Dataset** (edit these two variables)"
      ]
    },
    {
      "cell_type": "markdown",
      "id": "pFSYD78jtH6S",
      "metadata": {
        "id": "pFSYD78jtH6S"
      },
      "source": [
        "## Install libraries"
      ]
    },
    {
      "cell_type": "code",
      "execution_count": null,
      "id": "7vIhTBNrtGiq",
      "metadata": {
        "colab": {
          "background_save": true
        },
        "id": "7vIhTBNrtGiq"
      },
      "outputs": [],
      "source": [
        "!pip -q install google-cloud-bigquery pandas --upgrade"
      ]
    },
    {
      "cell_type": "markdown",
      "id": "g25vY2kFtM_v",
      "metadata": {
        "id": "g25vY2kFtM_v"
      },
      "source": [
        "## Authenticate"
      ]
    },
    {
      "cell_type": "code",
      "execution_count": null,
      "id": "cell_1761199794.86624",
      "metadata": {
        "id": "cell_1761199794.86624"
      },
      "outputs": [],
      "source": [
        "# --- Authenticate to Google Cloud from Colab (you'll get a popup) ---\n",
        "from google.colab import auth\n",
        "auth.authenticate_user()\n",
        "\n",
        "# --- Basic imports ---\n",
        "import os\n",
        "from google.cloud import bigquery\n",
        "\n",
        "# --- EDIT THESE THREE ONLY ---\n",
        "PROJECT_ID = \"mgmt467-471119\"   # your GCP project id\n",
        "DATASET    = \"netflix\"          # your BigQuery dataset\n",
        "REGION     = \"us\"      # the dataset's location (check in BigQuery UI)\n",
        "\n",
        "# Save for later string formatting if needed\n",
        "os.environ[\"PROJECT_ID\"] = PROJECT_ID\n",
        "os.environ[\"DATASET\"]    = DATASET\n",
        "os.environ[\"REGION\"]     = REGION\n",
        "print(PROJECT_ID, DATASET, REGION)"
      ]
    },
    {
      "cell_type": "markdown",
      "id": "QtOffJ54s01X",
      "metadata": {
        "id": "QtOffJ54s01X"
      },
      "source": [
        "## ⬜️ Cell 1 — Month Bounds\n",
        "\n",
        "Find the **minimum** and **maximum** months in `watch_history`.  \n",
        "We’ll use these to generate a canonical calendar of months that covers the entire activity range."
      ]
    },
    {
      "cell_type": "code",
      "execution_count": null,
      "id": "3V2M2mx2Lnzq",
      "metadata": {
        "colab": {
          "background_save": true
        },
        "id": "3V2M2mx2Lnzq"
      },
      "outputs": [],
      "source": [
        "import pandas as pd\n",
        "bq = bigquery.Client(project=PROJECT_ID, location=REGION)"
      ]
    },
    {
      "cell_type": "code",
      "execution_count": null,
      "id": "_J_LSwqr02cq",
      "metadata": {
        "colab": {
          "background_save": true
        },
        "id": "_J_LSwqr02cq"
      },
      "outputs": [],
      "source": [
        "sql = f\"\"\"\n",
        "CREATE OR REPLACE TABLE `{PROJECT_ID}.{DATASET}.month_bounds` AS\n",
        "SELECT\n",
        "  DATE_TRUNC(MIN(DATE(watch_date)), MONTH) AS min_month,\n",
        "  DATE_TRUNC(MAX(DATE(watch_date)), MONTH) AS max_month\n",
        "FROM `{PROJECT_ID}.{DATASET}.watch_history`;\n",
        "\"\"\"\n",
        "bq.query(sql).result()\n",
        "print(\"✓ month_bounds\")"
      ]
    },
    {
      "cell_type": "code",
      "execution_count": null,
      "id": "22dfca85",
      "metadata": {
        "colab": {
          "background_save": true
        },
        "id": "22dfca85"
      },
      "outputs": [],
      "source": [
        "sql = f\"\"\"\n",
        "SELECT 1\n",
        "FROM `{PROJECT_ID}.{DATASET}.INFORMATION_SCHEMA.TABLES`\n",
        "WHERE table_name = 'watch_history';\n",
        "\"\"\"\n",
        "try:\n",
        "  bq.query(sql).result()\n",
        "  print(\"✓ 'watch_history' table found in the dataset.\")\n",
        "except Exception as e:\n",
        "  print(f\"Error: Could not find 'watch_history' table or encountered an issue: {e}\")"
      ]
    },
    {
      "cell_type": "markdown",
      "id": "N26TRHbw2_sZ",
      "metadata": {
        "id": "N26TRHbw2_sZ"
      },
      "source": [
        "##Check if the table is creatred"
      ]
    },
    {
      "cell_type": "code",
      "execution_count": null,
      "id": "beb59cb2",
      "metadata": {
        "colab": {
          "background_save": true
        },
        "id": "beb59cb2"
      },
      "outputs": [],
      "source": [
        "sql = f\"\"\"\n",
        "SELECT *\n",
        "FROM `{PROJECT_ID}.{DATASET}.month_bounds`\n",
        "\"\"\"\n",
        "\n",
        "bq.query(sql).result().to_dataframe()"
      ]
    },
    {
      "cell_type": "markdown",
      "id": "rZKWfTkas01X",
      "metadata": {
        "id": "rZKWfTkas01X"
      },
      "source": [
        "## ⬜️ Cell 2 — Calendar of Months\n",
        "\n",
        "Create a dense **month calendar** from `min_month` to `max_month`.  \n",
        "This ensures we consider **months with zero activity**, which are crucial for churn labeling."
      ]
    },
    {
      "cell_type": "code",
      "execution_count": null,
      "id": "cell_1761199794.866431",
      "metadata": {
        "colab": {
          "background_save": true
        },
        "id": "cell_1761199794.866431"
      },
      "outputs": [],
      "source": [
        "sql = f\"\"\"\n",
        "CREATE OR REPLACE TABLE `{PROJECT_ID}.{DATASET}.calendar_months` AS\n",
        "WITH bounds AS (\n",
        "  SELECT min_month, max_month FROM `{PROJECT_ID}.{DATASET}.month_bounds`\n",
        "),\n",
        "seq AS (\n",
        "  SELECT GENERATE_DATE_ARRAY(\n",
        "    (SELECT min_month FROM bounds),\n",
        "    (SELECT max_month FROM bounds),\n",
        "    INTERVAL 1 MONTH\n",
        "  ) AS months\n",
        ")\n",
        "SELECT month\n",
        "FROM seq, UNNEST(months) AS month;\n",
        "\"\"\"\n",
        "bq.query(sql).result()\n",
        "print(\"✓ calendar_months\")"
      ]
    },
    {
      "cell_type": "markdown",
      "id": "MDh7KVXY3VJk",
      "metadata": {
        "id": "MDh7KVXY3VJk"
      },
      "source": [
        "## Check if the table was created"
      ]
    },
    {
      "cell_type": "code",
      "execution_count": null,
      "id": "1Vkir-WF3UAB",
      "metadata": {
        "colab": {
          "background_save": true
        },
        "id": "1Vkir-WF3UAB"
      },
      "outputs": [],
      "source": [
        "sql = f\"\"\"\n",
        "SELECT *\n",
        "FROM `{PROJECT_ID}.{DATASET}.calendar_months`\n",
        "ORDER BY month\n",
        "Limit 5\n",
        "\"\"\"\n",
        "\n",
        "bq.query(sql).result().to_dataframe()"
      ]
    },
    {
      "cell_type": "markdown",
      "id": "Mtmm5JVas01X",
      "metadata": {
        "id": "Mtmm5JVas01X"
      },
      "source": [
        "## ⬜️ Cell 3 — User × Month Grid\n",
        "\n",
        "Build a canonical **user × month** grid so every user has a row for every month, even if they had **no sessions**."
      ]
    },
    {
      "cell_type": "code",
      "execution_count": null,
      "id": "cell_1761199794.86653",
      "metadata": {
        "colab": {
          "background_save": true
        },
        "id": "cell_1761199794.86653"
      },
      "outputs": [],
      "source": [
        "sql = f\"\"\"\n",
        "CREATE OR REPLACE TABLE `{PROJECT_ID}.{DATASET}.user_month_grid` AS\n",
        "SELECT u.user_id, c.month\n",
        "FROM (SELECT DISTINCT user_id FROM `{PROJECT_ID}.{DATASET}.users`) u\n",
        "CROSS JOIN `{PROJECT_ID}.{DATASET}.calendar_months` c;\n",
        "\"\"\"\n",
        "bq.query(sql).result()\n",
        "print(\"✓ user_month_grid\")"
      ]
    },
    {
      "cell_type": "code",
      "execution_count": null,
      "id": "s8vTiWd731vD",
      "metadata": {
        "colab": {
          "background_save": true
        },
        "id": "s8vTiWd731vD"
      },
      "outputs": [],
      "source": [
        "sql = f\"\"\"\n",
        "SELECT *\n",
        "FROM `{PROJECT_ID}.{DATASET}.user_month_grid`\n",
        "LIMIT 5;\n",
        "\"\"\"\n",
        "bq.query(sql).result().to_dataframe()"
      ]
    },
    {
      "cell_type": "markdown",
      "id": "s_uIdTKWs01Y",
      "metadata": {
        "id": "s_uIdTKWs01Y"
      },
      "source": [
        "## ⬜️ Cell 4 — Monthly Activity Aggregation\n",
        "\n",
        "Aggregate `watch_history` to **monthly sessions** and **minutes** per user.  \n",
        "We do not use rolling sums yet; just raw monthly totals."
      ]
    },
    {
      "cell_type": "code",
      "execution_count": null,
      "id": "cell_1761199794.866619",
      "metadata": {
        "colab": {
          "background_save": true
        },
        "id": "cell_1761199794.866619"
      },
      "outputs": [],
      "source": [
        "sql = f\"\"\"\n",
        "CREATE OR REPLACE TABLE `{PROJECT_ID}.{DATASET}.activity_monthly` AS\n",
        "SELECT\n",
        "  user_id,\n",
        "  DATE_TRUNC(DATE(watch_date), MONTH) AS month,\n",
        "  COUNT(*) AS sessions,\n",
        "  SUM(watch_duration_minutes) AS minutes\n",
        "FROM `{PROJECT_ID}.{DATASET}.watch_history`\n",
        "GROUP BY 1,2;\n",
        "\"\"\"\n",
        "bq.query(sql).result()\n",
        "print(\"✓ activity_monthly\")"
      ]
    },
    {
      "cell_type": "markdown",
      "id": "2rKsNEe04L9O",
      "metadata": {
        "id": "2rKsNEe04L9O"
      },
      "source": [
        "## Display 5 records"
      ]
    },
    {
      "cell_type": "code",
      "execution_count": null,
      "id": "Hz_2RRsN4D24",
      "metadata": {
        "colab": {
          "background_save": true
        },
        "id": "Hz_2RRsN4D24"
      },
      "outputs": [],
      "source": [
        "sql = f\"\"\"\n",
        "SELECT *\n",
        "FROM `{PROJECT_ID}.{DATASET}.activity_monthly`\n",
        "LIMIT 5;\n",
        "\"\"\"\n",
        "bq.query(sql).result().to_dataframe()"
      ]
    },
    {
      "cell_type": "markdown",
      "id": "EeGuBmeZs01Y",
      "metadata": {
        "id": "EeGuBmeZs01Y"
      },
      "source": [
        "## ⬜️ Cell 5 — Fill Zero-Activity Months\n",
        "\n",
        "Left-join the monthly activity onto the **user × month grid** and fill missing as zeros.  \n",
        "This step ensures **churn** (no activity next month) can be correctly labeled."
      ]
    },
    {
      "cell_type": "code",
      "execution_count": null,
      "id": "cell_1761199794.866705",
      "metadata": {
        "colab": {
          "background_save": true
        },
        "id": "cell_1761199794.866705"
      },
      "outputs": [],
      "source": [
        "sql = f\"\"\"\n",
        "CREATE OR REPLACE TABLE `{PROJECT_ID}.{DATASET}.activity_filled` AS\n",
        "SELECT\n",
        "  g.user_id,\n",
        "  g.month,\n",
        "  COALESCE(a.sessions, 0) AS sessions,\n",
        "  COALESCE(a.minutes, 0)  AS minutes\n",
        "FROM `{PROJECT_ID}.{DATASET}.user_month_grid` g\n",
        "LEFT JOIN `{PROJECT_ID}.{DATASET}.activity_monthly` a\n",
        "USING (user_id, month);\n",
        "\"\"\"\n",
        "bq.query(sql).result()\n",
        "print(\"✓ activity_filled\")"
      ]
    },
    {
      "cell_type": "code",
      "execution_count": null,
      "id": "1-zP7Q6O4Y2r",
      "metadata": {
        "colab": {
          "background_save": true
        },
        "id": "1-zP7Q6O4Y2r"
      },
      "outputs": [],
      "source": [
        "sql = f\"\"\"\n",
        "SELECT *\n",
        "FROM `{PROJECT_ID}.{DATASET}.activity_filled`\n",
        "WHERE sessions = 0 AND minutes = 0\n",
        "LIMIT 5;\n",
        "\"\"\"\n",
        "bq.query(sql).result().to_dataframe()"
      ]
    },
    {
      "cell_type": "markdown",
      "id": "0u47UVGys01Y",
      "metadata": {
        "id": "0u47UVGys01Y"
      },
      "source": [
        "## ⬜️ Cell 6 — Rolling 3-Month Features\n",
        "\n",
        "**Feature Engineering:** Compute **recency/frequency** (`r3_sess`) and **intensity** (`r3_min`) as rolling 3-month sums per user.  \n",
        "These are compact but strong baseline features for churn prediction."
      ]
    },
    {
      "cell_type": "code",
      "execution_count": null,
      "id": "cell_1761199794.86679",
      "metadata": {
        "colab": {
          "background_save": true
        },
        "id": "cell_1761199794.86679"
      },
      "outputs": [],
      "source": [
        "sql = f\"\"\"\n",
        "CREATE OR REPLACE TABLE `{PROJECT_ID}.{DATASET}.activity_roll3` AS\n",
        "SELECT\n",
        "  user_id,\n",
        "  month,\n",
        "  sessions,\n",
        "  minutes,\n",
        "  SUM(sessions) OVER (\n",
        "    PARTITION BY user_id ORDER BY month\n",
        "    ROWS BETWEEN 2 PRECEDING AND CURRENT ROW\n",
        "  ) AS r3_sess,\n",
        "  SUM(minutes) OVER (\n",
        "    PARTITION BY user_id ORDER BY month\n",
        "    ROWS BETWEEN 2 PRECEDING AND CURRENT ROW\n",
        "  ) AS r3_min\n",
        "FROM `{PROJECT_ID}.{DATASET}.activity_filled`;\n",
        "\"\"\"\n",
        "bq.query(sql).result()\n",
        "print(\"✓ activity_roll3\")"
      ]
    },
    {
      "cell_type": "code",
      "execution_count": null,
      "id": "EwQzHBAm4vYT",
      "metadata": {
        "colab": {
          "background_save": true
        },
        "id": "EwQzHBAm4vYT"
      },
      "outputs": [],
      "source": [
        "sql = f\"\"\"\n",
        "SELECT *\n",
        "FROM `{PROJECT_ID}.{DATASET}.activity_roll3`\n",
        "LIMIT 5;\n",
        "\"\"\"\n",
        "bq.query(sql).result().to_dataframe()"
      ]
    },
    {
      "cell_type": "markdown",
      "id": "HNQejn-ws01Y",
      "metadata": {
        "id": "HNQejn-ws01Y"
      },
      "source": [
        "## ⬜️ Cell 7 — Label: Next-Month Churn\n",
        "\n",
        "Define **active next month** = 1 if a user has **any sessions** next month, else 0.  \n",
        "Our label **`churn_next_month` = 1 - active_next_month** (1 means churn)."
      ]
    },
    {
      "cell_type": "code",
      "execution_count": null,
      "id": "cell_1761199794.866866",
      "metadata": {
        "colab": {
          "background_save": true
        },
        "id": "cell_1761199794.866866"
      },
      "outputs": [],
      "source": [
        "sql = f\"\"\"\n",
        "CREATE OR REPLACE TABLE `{PROJECT_ID}.{DATASET}.labels_next_month` AS\n",
        "SELECT\n",
        "  user_id,\n",
        "  month,\n",
        "  LEAD(CASE WHEN sessions > 0 THEN 1 ELSE 0 END)\n",
        "    OVER (PARTITION BY user_id ORDER BY month) AS active_next_month\n",
        "FROM `{PROJECT_ID}.{DATASET}.activity_filled`;\n",
        "\"\"\"\n",
        "bq.query(sql).result()\n",
        "print(\"✓ labels_next_month\")"
      ]
    },
    {
      "cell_type": "code",
      "execution_count": null,
      "id": "EQ3twKft5H0o",
      "metadata": {
        "colab": {
          "background_save": true
        },
        "id": "EQ3twKft5H0o"
      },
      "outputs": [],
      "source": [
        "sql = f\"\"\"\n",
        "SELECT *\n",
        "FROM `{PROJECT_ID}.{DATASET}.labels_next_month`\n",
        "LIMIT 5;\n",
        "\"\"\"\n",
        "bq.query(sql).result().to_dataframe()"
      ]
    },
    {
      "cell_type": "markdown",
      "id": "AwpdAm5ts01Y",
      "metadata": {
        "id": "AwpdAm5ts01Y"
      },
      "source": [
        "## ⬜️ Cell 8 — User Attributes (Lite)\n",
        "\n",
        "Bring in simple demographic/product context: `subscription_plan`, `country`, `age`.  \n",
        "These keep the feature set small and interpretable."
      ]
    },
    {
      "cell_type": "code",
      "execution_count": null,
      "id": "cell_1761199794.866949",
      "metadata": {
        "colab": {
          "background_save": true
        },
        "id": "cell_1761199794.866949"
      },
      "outputs": [],
      "source": [
        "sql = f\"\"\"\n",
        "CREATE OR REPLACE TABLE `{PROJECT_ID}.{DATASET}.user_attrs_lite` AS\n",
        "SELECT user_id, subscription_plan, country, age\n",
        "FROM `{PROJECT_ID}.{DATASET}.users`;\n",
        "\"\"\"\n",
        "bq.query(sql).result()\n",
        "print(\"✓ user_attrs_lite\")"
      ]
    },
    {
      "cell_type": "code",
      "execution_count": null,
      "id": "JfEVjSwJ51e3",
      "metadata": {
        "colab": {
          "background_save": true
        },
        "id": "JfEVjSwJ51e3"
      },
      "outputs": [],
      "source": [
        "sql = f\"\"\"\n",
        "SELECT *\n",
        "FROM `{PROJECT_ID}.{DATASET}.user_attrs_lite`\n",
        "LIMIT 5;\n",
        "\"\"\"\n",
        "bq.query(sql).result().to_dataframe()"
      ]
    },
    {
      "cell_type": "markdown",
      "id": "Bqg-lW1ds01Y",
      "metadata": {
        "id": "Bqg-lW1ds01Y"
      },
      "source": [
        "## ⬜️ Cell 9 — Assemble Final Feature + Label Table\n",
        "\n",
        "Join rolling features + user attributes + labels to build `feat_churn_lite`.  \n",
        "We drop rows where the label is `NULL` (i.e., there is no “next month” to label)."
      ]
    },
    {
      "cell_type": "code",
      "execution_count": null,
      "id": "cell_1761199794.867037",
      "metadata": {
        "colab": {
          "background_save": true
        },
        "id": "cell_1761199794.867037"
      },
      "outputs": [],
      "source": [
        "sql = f\"\"\"\n",
        "CREATE OR REPLACE TABLE `{PROJECT_ID}.{DATASET}.feat_churn_lite` AS\n",
        "SELECT\n",
        "  r.user_id,\n",
        "  r.month,\n",
        "  r.r3_sess,\n",
        "  r.r3_min,\n",
        "  u.subscription_plan,\n",
        "  u.country,\n",
        "  u.age,\n",
        "  CASE\n",
        "    WHEN l.active_next_month = 1 THEN 0\n",
        "    WHEN l.active_next_month = 0 THEN 1\n",
        "    ELSE NULL\n",
        "  END AS churn_next_month\n",
        "FROM `{PROJECT_ID}.{DATASET}.activity_roll3` r\n",
        "JOIN `{PROJECT_ID}.{DATASET}.user_attrs_lite` u USING (user_id)\n",
        "JOIN `{PROJECT_ID}.{DATASET}.labels_next_month` l USING (user_id, month)\n",
        "WHERE l.active_next_month IS NOT NULL;\n",
        "\"\"\"\n",
        "bq.query(sql).result()\n",
        "print(\"✓ feat_churn_lite\")"
      ]
    },
    {
      "cell_type": "code",
      "execution_count": null,
      "id": "lTBPYgoK6B5N",
      "metadata": {
        "colab": {
          "background_save": true
        },
        "id": "lTBPYgoK6B5N"
      },
      "outputs": [],
      "source": [
        "sql = f\"\"\"\n",
        "SELECT *\n",
        "FROM `{PROJECT_ID}.{DATASET}.feat_churn_lite`\n",
        "LIMIT 5;\n",
        "\"\"\"\n",
        "bq.query(sql).result().to_dataframe()"
      ]
    },
    {
      "cell_type": "markdown",
      "id": "ksFmiVoMs01Z",
      "metadata": {
        "id": "ksFmiVoMs01Z"
      },
      "source": [
        "## ✅ Quick Sanity Checks (Optional)\n",
        "\n",
        "Confirm the label is present, inspect class balance, and ensure features are populated."
      ]
    },
    {
      "cell_type": "code",
      "execution_count": null,
      "id": "cell_1761199794.867123",
      "metadata": {
        "colab": {
          "background_save": true
        },
        "id": "cell_1761199794.867123"
      },
      "outputs": [],
      "source": [
        "checks = f\"\"\"\n",
        "SELECT 'rows_total' AS check_name, COUNT(*) AS val FROM `{PROJECT_ID}.{DATASET}.feat_churn_lite`\n",
        "UNION ALL\n",
        "SELECT 'null_labels', COUNTIF(churn_next_month IS NULL) FROM `{PROJECT_ID}.{DATASET}.feat_churn_lite`\n",
        "UNION ALL\n",
        "SELECT 'class_0', COUNT(*) FROM `{PROJECT_ID}.{DATASET}.feat_churn_lite` WHERE churn_next_month=0\n",
        "UNION ALL\n",
        "SELECT 'class_1', COUNT(*) FROM `{PROJECT_ID}.{DATASET}.feat_churn_lite` WHERE churn_next_month=1;\n",
        "\"\"\"\n",
        "from pandas import set_option\n",
        "set_option('display.max_rows', 10)\n",
        "bq.query(checks).result().to_dataframe()"
      ]
    },
    {
      "cell_type": "markdown",
      "id": "Wxu2AZw7s01Z",
      "metadata": {
        "id": "Wxu2AZw7s01Z"
      },
      "source": [
        "# 🔮 Logistic Regression (BigQuery ML)\n",
        "\n",
        "We now train a **minimal logistic regression** using the features we built, evaluate it, and generate predictions for the last month."
      ]
    },
    {
      "cell_type": "markdown",
      "id": "xVLtgldCs01Z",
      "metadata": {
        "id": "xVLtgldCs01Z"
      },
      "source": [
        "## ⬜️ Train — Minimal Model (AUTO Split)\n",
        "\n",
        "Uses: `r3_sess`, `r3_min`, `subscription_plan`, `country`, `age`  \n",
        "Label: `churn_next_month`"
      ]
    },
    {
      "cell_type": "code",
      "execution_count": null,
      "id": "6a9f3b54",
      "metadata": {
        "colab": {
          "background_save": true
        },
        "id": "6a9f3b54"
      },
      "outputs": [],
      "source": [
        "sql = f\"\"\"\n",
        "CREATE OR REPLACE MODEL `{PROJECT_ID}.{DATASET}.churn_logreg_lite`\n",
        "OPTIONS (\n",
        "  model_type = 'logistic_reg',\n",
        "  input_label_cols = ['churn_next_month'],\n",
        "  data_split_method = 'SEQ',\n",
        "  data_split_col = 'month' -- Use the 'month' column for sequential splitting\n",
        ") AS\n",
        "SELECT\n",
        "  churn_next_month,\n",
        "  r3_sess, r3_min,\n",
        "  subscription_plan, country, age,\n",
        "  month -- Include month in the select list for SEQ split\n",
        "FROM `{PROJECT_ID}.{DATASET}.feat_churn_lite`\n",
        "ORDER BY month; -- Order by month for sequential split\n",
        "\"\"\"\n",
        "bq.query(sql).result()\n",
        "print(\"✓ trained model:\", f\"{PROJECT_ID}.{DATASET}.churn_logreg_lite\")"
      ]
    },
    {
      "cell_type": "markdown",
      "id": "wTyPDRyks01Z",
      "metadata": {
        "id": "wTyPDRyks01Z"
      },
      "source": [
        "## ⬜️ Evaluate — Metrics & Curves\n",
        "\n",
        "We’ll look at AUC and log_loss, plus fetch ROC/PR curve points.  \n",
        "Students can plot these in later exercises if desired."
      ]
    },
    {
      "cell_type": "code",
      "execution_count": null,
      "id": "cell_1761199794.86732",
      "metadata": {
        "colab": {
          "background_save": true
        },
        "id": "cell_1761199794.86732"
      },
      "outputs": [],
      "source": [
        "eval_df = bq.query(\n",
        "    f\"SELECT * FROM ML.EVALUATE(MODEL `{PROJECT_ID}.{DATASET}.churn_logreg_lite`);\"\n",
        ").result().to_dataframe()\n",
        "eval_df"
      ]
    },
    {
      "cell_type": "code",
      "execution_count": null,
      "id": "cell_1761199794.86736",
      "metadata": {
        "colab": {
          "background_save": true
        },
        "id": "cell_1761199794.86736"
      },
      "outputs": [],
      "source": [
        "roc_df = bq.query(\n",
        "    f\"SELECT * FROM ML.ROC_CURVE(MODEL `{PROJECT_ID}.{DATASET}.churn_logreg_lite`);\"\n",
        ").result().to_dataframe()\n",
        "roc_df.head()"
      ]
    },
    {
      "cell_type": "code",
      "execution_count": null,
      "id": "cell_1761199794.8674",
      "metadata": {
        "colab": {
          "background_save": true
        },
        "id": "cell_1761199794.8674"
      },
      "outputs": [],
      "source": [
        "f\"\"\"\n",
        "SELECT * FROM ML.PR_CURVE(MODEL `{PROJECT_ID}.{DATASET}.churn_logreg_lite`)\n",
        "\"\"\"\n",
        "pr_df = bq.query(sql).result().to_dataframe()\n",
        "pr_df.head()"
      ]
    },
    {
      "cell_type": "code",
      "execution_count": null,
      "id": "cell_1761199794.867441",
      "metadata": {
        "colab": {
          "background_save": true
        },
        "id": "cell_1761199794.867441"
      },
      "outputs": [],
      "source": [
        "cm_df = bq.query(f\"\"\"\n",
        "SELECT *\n",
        "FROM ML.CONFUSION_MATRIX(\n",
        "  MODEL `{PROJECT_ID}.{DATASET}.churn_logreg_lite`,\n",
        "  (SELECT\n",
        "     churn_next_month,\n",
        "     r3_sess, r3_min, subscription_plan, country, age\n",
        "   FROM `{PROJECT_ID}.{DATASET}.feat_churn_lite`),\n",
        "  STRUCT(0.5 AS threshold)\n",
        ");\n",
        "\"\"\").result().to_dataframe()\n",
        "cm_df"
      ]
    },
    {
      "cell_type": "markdown",
      "id": "G5Qxvdtqs01Z",
      "metadata": {
        "id": "G5Qxvdtqs01Z"
      },
      "source": [
        "## ⬜️ Predict — Score the Latest Month\n",
        "\n",
        "We score the most recent month in `feat_churn_lite` and save predictions to a table for inspection or dashboards."
      ]
    },
    {
      "cell_type": "code",
      "execution_count": null,
      "id": "5396c399",
      "metadata": {
        "colab": {
          "background_save": true
        },
        "id": "5396c399"
      },
      "outputs": [],
      "source": [
        "# Helper: last month to score\n",
        "bq.query(f\"\"\"\n",
        "CREATE OR REPLACE TABLE `{PROJECT_ID}.{DATASET}.score_month` AS\n",
        "SELECT MAX(month) AS score_month\n",
        "FROM `{PROJECT_ID}.{DATASET}.feat_churn_lite`;\n",
        "\"\"\").result()\n",
        "\n",
        "# Predictions table\n",
        "bq.query(f\"\"\"\n",
        "CREATE OR REPLACE TABLE `{PROJECT_ID}.{DATASET}.churn_predictions_lite` AS\n",
        "WITH to_score AS (\n",
        "  SELECT f.*\n",
        "  FROM `{PROJECT_ID}.{DATASET}.feat_churn_lite` f\n",
        "  CROSS JOIN `{PROJECT_ID}.{DATASET}.score_month` s\n",
        "  WHERE f.month = s.score_month\n",
        ")\n",
        "SELECT\n",
        "  user_id,\n",
        "  month AS score_month,\n",
        "  predicted_churn_next_month AS yhat,\n",
        "  (SELECT prob FROM UNNEST(predicted_churn_next_month_probs) WHERE label = predicted_churn_next_month) AS prob_churn\n",
        "FROM ML.PREDICT(\n",
        "  MODEL `{PROJECT_ID}.{DATASET}.churn_logreg_lite`,\n",
        "  TABLE to_score\n",
        ");\n",
        "\"\"\").result()\n",
        "\n",
        "bq.query(\n",
        "    f\"SELECT * FROM `{PROJECT_ID}.{DATASET}.churn_predictions_lite` ORDER BY prob_churn DESC LIMIT 20\"\n",
        ").result().to_dataframe()"
      ]
    },
    {
      "cell_type": "markdown",
      "id": "g2wZAOrM0sBe",
      "metadata": {
        "id": "g2wZAOrM0sBe"
      },
      "source": [
        "## Next Steps\n",
        "* Analyze current features\n",
        "* Brainstorm new features\n",
        "* Feature engineering\n",
        "* Iterate on the model\n",
        "* Evaluate the improved model\n",
        "* Refine features and model\n",
        "* Finish task"
      ]
    },
    {
      "cell_type": "code",
      "execution_count": null,
      "id": "0Hnq4apD0kSa",
      "metadata": {
        "colab": {
          "background_save": true
        },
        "id": "0Hnq4apD0kSa"
      },
      "outputs": [],
      "source": []
    },
    {
      "cell_type": "markdown",
      "id": "NJVcqqQNs01Z",
      "metadata": {
        "id": "NJVcqqQNs01Z"
      },
      "source": [
        "---\n",
        "\n",
        "## 🤖 Gemini Synthesis & Compare Prompt\n",
        "\n",
        "Use this prompt with Gemini (in the side panel or a text cell) to generate a **single-query CTE** version of your 9-step pipeline and then **compare results** against your materialized table.\n",
        "\n",
        "**Copy/paste this prompt:**"
      ]
    },
    {
      "cell_type": "markdown",
      "id": "tpaF_1HOs01Z",
      "metadata": {
        "id": "tpaF_1HOs01Z"
      },
      "source": [
        "```\n",
        "You are a data engineering copilot. I built a 9-step BigQuery pipeline that creates `${PROJECT_ID}.${DATASET}.feat_churn_lite` with features (r3_sess, r3_min, subscription_plan, country, age) and label churn_next_month, using:\n",
        "1) month_bounds\n",
        "2) calendar_months\n",
        "3) user_month_grid\n",
        "4) activity_monthly\n",
        "5) activity_filled\n",
        "6) activity_roll3\n",
        "7) labels_next_month\n",
        "8) user_attrs_lite\n",
        "9) final select\n",
        "\n",
        "Task A: Produce a single BigQuery SQL (CTEs only; no CREATE TABLE) that computes the same final columns directly from `${PROJECT_ID}.${DATASET}.users` and `${PROJECT_ID}.${DATASET}.watch_history` with identical logic: calendar, user×month grid, zero fill, rolling 3-month sums, and label from next-month activity.\n",
        "\n",
        "Task B: Produce a second SQL snippet that checks equivalence vs the materialized table:\n",
        "- Row count difference\n",
        "- Class distribution difference\n",
        "- A checksum hash over ordered (user_id, month)\n",
        "\n",
        "Return only two code blocks titled:\n",
        "-- SINGLE-QUERY CTE VERSION\n",
        "-- EQUIVALENCE CHECKS\n",
        "Use fully qualified names with my PROJECT_ID and DATASET placeholders.\n",
        "```"
      ]
    },
    {
      "cell_type": "code",
      "execution_count": null,
      "id": "eeb0e6c0",
      "metadata": {
        "colab": {
          "background_save": true
        },
        "id": "eeb0e6c0"
      },
      "outputs": [],
      "source": [
        "sql = f\"\"\"\n",
        "-- SINGLE-QUERY CTE VERSION\n",
        "WITH month_bounds AS (\n",
        "  SELECT\n",
        "    DATE_TRUNC(MIN(DATE(watch_date)), MONTH) AS min_month,\n",
        "    DATE_TRUNC(MAX(DATE(watch_date)), MONTH) AS max_month\n",
        "  FROM `{PROJECT_ID}.{DATASET}.watch_history`\n",
        "),\n",
        "calendar_months AS (\n",
        "  SELECT month\n",
        "  FROM month_bounds,\n",
        "       UNNEST(GENERATE_DATE_ARRAY(min_month, max_month, INTERVAL 1 MONTH)) AS month\n",
        "),\n",
        "user_month_grid AS (\n",
        "  SELECT u.user_id, c.month\n",
        "  FROM (SELECT DISTINCT user_id FROM `{PROJECT_ID}.{DATASET}.users`) u\n",
        "  CROSS JOIN calendar_months c\n",
        "),\n",
        "activity_monthly AS (\n",
        "  SELECT\n",
        "    user_id,\n",
        "    DATE_TRUNC(DATE(watch_date), MONTH) AS month,\n",
        "    COUNT(*) AS sessions,\n",
        "    SUM(watch_duration_minutes) AS minutes\n",
        "  FROM `{PROJECT_ID}.{DATASET}.watch_history`\n",
        "  GROUP BY 1, 2\n",
        "),\n",
        "activity_filled AS (\n",
        "  SELECT\n",
        "    g.user_id,\n",
        "    g.month,\n",
        "    COALESCE(a.sessions, 0) AS sessions,\n",
        "    COALESCE(a.minutes, 0)  AS minutes\n",
        "  FROM user_month_grid g\n",
        "  LEFT JOIN activity_monthly a USING (user_id, month)\n",
        "),\n",
        "activity_roll3 AS (\n",
        "  SELECT\n",
        "    user_id,\n",
        "    month,\n",
        "    sessions,\n",
        "    minutes,\n",
        "    SUM(sessions) OVER (\n",
        "      PARTITION BY user_id ORDER BY month\n",
        "      ROWS BETWEEN 2 PRECEDING AND CURRENT ROW\n",
        "    ) AS r3_sess,\n",
        "    SUM(minutes) OVER (\n",
        "      PARTITION BY user_id ORDER BY month\n",
        "      ROWS BETWEEN 2 PRECEDING AND CURRENT ROW\n",
        "    ) AS r3_min\n",
        "  FROM activity_filled\n",
        "),\n",
        "labels_next_month AS (\n",
        "  SELECT\n",
        "    user_id,\n",
        "    month,\n",
        "    LEAD(CASE WHEN sessions > 0 THEN 1 ELSE 0 END)\n",
        "      OVER (PARTITION BY user_id ORDER BY month) AS active_next_month\n",
        "    FROM activity_filled\n",
        "),\n",
        "user_attrs_lite AS (\n",
        "  SELECT user_id, subscription_plan, country, age\n",
        "  FROM `{PROJECT_ID}.{DATASET}.users`\n",
        ")\n",
        "SELECT\n",
        "  r.user_id,\n",
        "  r.month,\n",
        "  r.r3_sess,\n",
        "  r.r3_min,\n",
        "  u.subscription_plan,\n",
        "  u.country,\n",
        "  u.age,\n",
        "  CASE\n",
        "    WHEN l.active_next_month = 1 THEN 0\n",
        "    WHEN l.active_next_month = 0 THEN 1\n",
        "    ELSE NULL\n",
        "  END AS churn_next_month\n",
        "FROM activity_roll3 r\n",
        "JOIN user_attrs_lite u USING (user_id)\n",
        "JOIN labels_next_month l USING (user_id, month)\n",
        "WHERE l.active_next_month IS NOT NULL;\n",
        "\"\"\"\n",
        "bq.query(sql).result().to_dataframe() # Execute and display results"
      ]
    },
    {
      "cell_type": "code",
      "execution_count": null,
      "id": "c3221f95",
      "metadata": {
        "colab": {
          "background_save": true
        },
        "id": "c3221f95"
      },
      "outputs": [],
      "source": [
        "sql = f\"\"\"\n",
        "-- EQUIVALENCE CHECKS\n",
        "WITH cte_version AS (\n",
        "  -- Paste the SINGLE-QUERY CTE VERSION here\n",
        "  WITH month_bounds AS (\n",
        "    SELECT\n",
        "      DATE_TRUNC(MIN(DATE(watch_date)), MONTH) AS min_month,\n",
        "      DATE_TRUNC(MAX(DATE(watch_date)), MONTH) AS max_month\n",
        "    FROM `{PROJECT_ID}.{DATASET}.watch_history`\n",
        "  ),\n",
        "  calendar_months AS (\n",
        "    SELECT month\n",
        "    FROM month_bounds,\n",
        "         UNNEST(GENERATE_DATE_ARRAY(min_month, max_month, INTERVAL 1 MONTH)) AS month\n",
        "  ),\n",
        "  user_month_grid AS (\n",
        "    SELECT u.user_id, c.month\n",
        "    FROM (SELECT DISTINCT user_id FROM `{PROJECT_ID}.{DATASET}.users`) u\n",
        "    CROSS JOIN calendar_months c\n",
        "  ),\n",
        "  activity_monthly AS (\n",
        "    SELECT\n",
        "      user_id,\n",
        "      DATE_TRUNC(DATE(watch_date), MONTH) AS month,\n",
        "      COUNT(*) AS sessions,\n",
        "      SUM(watch_duration_minutes) AS minutes\n",
        "    FROM `{PROJECT_ID}.{DATASET}.watch_history`\n",
        "    GROUP BY 1, 2\n",
        "  ),\n",
        "  activity_filled AS (\n",
        "    SELECT\n",
        "      g.user_id,\n",
        "      g.month,\n",
        "      COALESCE(a.sessions, 0) AS sessions,\n",
        "      COALESCE(a.minutes, 0)  AS minutes\n",
        "    FROM user_month_grid g\n",
        "    LEFT JOIN activity_monthly a USING (user_id, month)\n",
        "  ),\n",
        "  activity_roll3 AS (\n",
        "    SELECT\n",
        "      user_id,\n",
        "      month,\n",
        "      sessions,\n",
        "      minutes,\n",
        "      SUM(sessions) OVER (\n",
        "        PARTITION BY user_id ORDER BY month\n",
        "        ROWS BETWEEN 2 PRECEDING AND CURRENT ROW\n",
        "      ) AS r3_sess,\n",
        "      SUM(minutes) OVER (\n",
        "        PARTITION BY user_id ORDER BY month\n",
        "        ROWS BETWEEN 2 PRECEDING AND CURRENT ROW\n",
        "      ) AS r3_min\n",
        "    FROM activity_filled\n",
        "  ),\n",
        "  labels_next_month AS (\n",
        "    SELECT\n",
        "      user_id,\n",
        "      month,\n",
        "      LEAD(CASE WHEN sessions > 0 THEN 1 ELSE 0 END)\n",
        "        OVER (PARTITION BY user_id ORDER BY month) AS active_next_month\n",
        "    FROM activity_filled\n",
        "  ),\n",
        "  user_attrs_lite AS (\n",
        "    SELECT user_id, subscription_plan, country, age\n",
        "    FROM `{PROJECT_ID}.{DATASET}.users`\n",
        "  )\n",
        "  SELECT\n",
        "    r.user_id,\n",
        "    r.month,\n",
        "    r.r3_sess,\n",
        "    r.r3_min,\n",
        "    u.subscription_plan,\n",
        "    u.country,\n",
        "    u.age,\n",
        "    CASE\n",
        "      WHEN l.active_next_month = 1 THEN 0\n",
        "      WHEN l.active_next_month = 0 THEN 1\n",
        "      ELSE NULL\n",
        "    END AS churn_next_month\n",
        "  FROM activity_roll3 r\n",
        "  JOIN user_attrs_lite u USING (user_id)\n",
        "  JOIN labels_next_month l USING (user_id, month)\n",
        "  WHERE l.active_next_month IS NOT NULL\n",
        "),\n",
        "materialized_table AS (\n",
        "  SELECT user_id, month, r3_sess, r3_min, subscription_plan, country, age, churn_next_month\n",
        "  FROM `{PROJECT_ID}.{DATASET}.feat_churn_lite`\n",
        ")\n",
        "-- Equivalence Checks\n",
        "SELECT\n",
        "  'Row Count Difference' as check_name,\n",
        "  (SELECT COUNT(*) FROM cte_version) - (SELECT COUNT(*) FROM materialized_table) as value\n",
        "UNION ALL\n",
        "SELECT\n",
        "  'Class 0 Difference',\n",
        "  (SELECT COUNT(*) FROM cte_version WHERE churn_next_month = 0) - (SELECT COUNT(*) FROM materialized_table WHERE churn_next_month = 0)\n",
        "UNION ALL\n",
        "SELECT\n",
        "  'Class 1 Difference',\n",
        "  (SELECT COUNT(*) FROM cte_version WHERE churn_next_month = 1) - (SELECT COUNT(*) FROM materialized_table WHERE churn_next_month = 1)\n",
        "UNION ALL\n",
        "SELECT\n",
        "  'Checksum Hash Match (0=Match)',\n",
        "  IF(\n",
        "    (SELECT FARM_FINGERPRINT(STRING_AGG(TO_JSON_STRING(t) ORDER BY user_id, month)) FROM cte_version t) =\n",
        "    (SELECT FARM_FINGERPRINT(STRING_AGG(TO_JSON_STRING(t) ORDER BY user_id, month)) FROM materialized_table t),\n",
        "    0,\n",
        "    1\n",
        "  )\n",
        "\"\"\"\n",
        "bq.query(sql).result().to_dataframe() # Execute and display results"
      ]
    },
    {
      "cell_type": "markdown",
      "id": "sJK5v7ns7SNX",
      "metadata": {
        "id": "sJK5v7ns7SNX"
      },
      "source": [
        "## Next Steps\n",
        "* **Analyze current features:** Examine the existing features (r3_sess, r3_min, subscription_plan, country, age) to understand their contribution to the model and identify potential limitations.\n",
        "* **Brainstorm new features:** Based on the domain knowledge of streaming services and churn behavior, brainstorm new features that could capture user engagement, content preferences, or other relevant factors. Consider features derived from the watch_history and users tables.\n",
        "* **Feature engineering:** Create new features based on the brainstorming session. This might involve aggregating data, creating ratios, or extracting information from timestamps or other fields.\n",
        "* **Iterate on the model:** Add the new features to the feat_churn_lite table and retrain the BigQuery ML model.\n",
        "* **Evaluate the new model:** Evaluate the new model's performance using the same metrics as before (AUC, log loss, etc.) and compare it to the baseline model."
      ]
    },
    {
      "cell_type": "markdown",
      "id": "35e24464",
      "metadata": {
        "id": "35e24464"
      },
      "source": [
        "# Task\n",
        "Analyze the current features in the `feat_churn_lite` table, brainstorm new features from the `watch_history` and `users` tables to improve the churn prediction model, engineer these new features, and outline a plan to iterate on the model with the new features and evaluate its performance."
      ]
    },
    {
      "cell_type": "markdown",
      "id": "59b94a19",
      "metadata": {
        "id": "59b94a19"
      },
      "source": [
        "## Analyze current features\n",
        "\n",
        "### Subtask:\n",
        "Examine the existing features (`r3_sess`, `r3_min`, `subscription_plan`, `country`, `age`) to understand their contribution to the model and identify potential limitations.\n"
      ]
    },
    {
      "cell_type": "markdown",
      "id": "d6cae17f",
      "metadata": {
        "id": "d6cae17f"
      },
      "source": [
        "**Reasoning**:\n",
        "Review the model evaluation metrics and confusion matrix to understand the current model's performance and the contribution of existing features.\n",
        "\n"
      ]
    },
    {
      "cell_type": "code",
      "execution_count": null,
      "id": "512m9dyi0c6h",
      "metadata": {
        "colab": {
          "background_save": true
        },
        "id": "512m9dyi0c6h"
      },
      "outputs": [],
      "source": [
        "cm_df = bq.query(f\"\"\"\n",
        "SELECT *\n",
        "FROM ML.CONFUSION_MATRIX(\n",
        "  MODEL `{PROJECT_ID}.{DATASET}.churn_logreg_lite`,\n",
        "  (SELECT\n",
        "     churn_next_month,\n",
        "     r3_sess, r3_min, subscription_plan, country, age\n",
        "   FROM `{PROJECT_ID}.{DATASET}.feat_churn_lite`),\n",
        "  STRUCT(0.5 AS threshold)\n",
        ");\n",
        "\"\"\").result().to_dataframe()\n",
        "\n",
        "print(\"Model Evaluation Metrics:\")\n",
        "display(eval_df)\n",
        "\n",
        "print(\"\\nConfusion Matrix (Threshold = 0.5):\")\n",
        "display(cm_df)"
      ]
    },
    {
      "cell_type": "markdown",
      "id": "d7b85aca",
      "metadata": {
        "id": "d7b85aca"
      },
      "source": [
        "## Brainstorm new features\n",
        "\n",
        "### Subtask:\n",
        "Based on the domain knowledge of streaming services and churn behavior, brainstorm new features that could capture user engagement, content preferences, or other relevant factors. Consider features derived from the the `watch_history` and `users` tables.\n"
      ]
    },
    {
      "cell_type": "markdown",
      "id": "c75dc356",
      "metadata": {
        "id": "c75dc356"
      },
      "source": [
        "**Reasoning**:\n",
        "Brainstorm new features based on domain knowledge and available data.\n",
        "\n"
      ]
    },
    {
      "cell_type": "code",
      "execution_count": null,
      "id": "301c43db",
      "metadata": {
        "colab": {
          "background_save": true
        },
        "id": "301c43db"
      },
      "outputs": [],
      "source": [
        "# Brainstorming new features from watch_history and users tables\n",
        "\n",
        "print(\"Potential New Features for Churn Prediction:\")\n",
        "print(\"\\nEngagement-Related Features (from watch_history):\")\n",
        "print(\"- Monthly average watch duration: Captures typical viewing time per month. (Derived from watch_duration_minutes)\")\n",
        "print(\"- Number of unique days watched per month: Indicates regularity of engagement. (Derived from watch_date)\")\n",
        "print(\"- Longest continuous watching streak (in days) per month: Measures intense periods of engagement. (Derived from watch_date)\")\n",
        "print(\"- Proportion of content watched to completion (if content duration is available): Indicates content satisfaction. (Requires content duration data, not currently available)\")\n",
        "print(\"- Time since last watch: Recency of activity is a strong churn indicator. (Derived from watch_date)\")\n",
        "print(\"- Frequency of watching (e.g., average days between watches): Another measure of engagement regularity. (Derived from watch_date)\")\n",
        "print(\"- Number of different genres/categories watched per month: Measures content exploration/diversity. (Requires content genre/category data, not currently available)\")\n",
        "\n",
        "print(\"\\nContent-Related Features (from watch_history, potentially users for preferences):\")\n",
        "print(\"- Preferred genre/category (based on watch history): Users might churn if new content in their preferred area is lacking. (Requires content genre/category data)\")\n",
        "print(\"- Proportion of watching time spent on new releases: Indicates engagement with fresh content. (Requires content release date data)\")\n",
        "print(\"- Engagement with specific popular titles/franchises: High engagement might indicate loyalty. (Requires content title/franchise data)\")\n",
        "\n",
        "print(\"\\nUser-Related Features (from users, potentially combined with watch_history):\")\n",
        "print(\"- Tenure (months since joining): Longer tenure might indicate loyalty, but also potential for stagnation. (Derived from user join date, not currently available)\")\n",
        "print(\"- Number of devices used: Might indicate shared accounts or diverse viewing habits. (Requires device information, not currently available)\")\n",
        "print(\"- Customer support interactions (frequency, type): High frequency or certain types of interactions might precede churn. (Requires customer support data, not currently available)\")\n",
        "print(\"- Payment method/billing issues: Payment problems can lead to involuntary churn. (Requires billing data, not currently available)\")"
      ]
    },
    {
      "cell_type": "markdown",
      "id": "86a50b8e",
      "metadata": {
        "id": "86a50b8e"
      },
      "source": [
        "## Feature engineering\n",
        "\n",
        "### Subtask:\n",
        "Create new features based on the brainstorming session. This might involve aggregating data, creating ratios, or extracting information from timestamps or other fields.\n"
      ]
    },
    {
      "cell_type": "markdown",
      "id": "966afb4a",
      "metadata": {
        "id": "966afb4a"
      },
      "source": [
        "**Reasoning**:\n",
        "Modify the BigQuery SQL query to include new features derived from watch_history and users tables, specifically monthly average watch duration, number of unique days watched per month, and time since last watch. Then, execute the query to create or replace the feat_churn_lite table and verify the new columns.\n",
        "\n"
      ]
    },
    {
      "cell_type": "code",
      "execution_count": null,
      "id": "Um9tnSAP06hi",
      "metadata": {
        "colab": {
          "background_save": true
        },
        "id": "Um9tnSAP06hi"
      },
      "outputs": [],
      "source": [
        "sql = f\"\"\"\n",
        "CREATE OR REPLACE TABLE `{PROJECT_ID}.{DATASET}.feat_churn_lite` AS\n",
        "WITH month_bounds AS (\n",
        "  SELECT\n",
        "    DATE_TRUNC(MIN(DATE(watch_date)), MONTH) AS min_month,\n",
        "    DATE_TRUNC(MAX(DATE(watch_date)), MONTH) AS max_month\n",
        "  FROM `{PROJECT_ID}.{DATASET}.watch_history`\n",
        "),\n",
        "calendar_months AS (\n",
        "  SELECT month\n",
        "  FROM month_bounds,\n",
        "       UNNEST(GENERATE_DATE_ARRAY(min_month, max_month, INTERVAL 1 MONTH)) AS month\n",
        "),\n",
        "user_month_grid AS (\n",
        "  SELECT u.user_id, c.month\n",
        "  FROM (SELECT DISTINCT user_id FROM `{PROJECT_ID}.{DATASET}.users`) u\n",
        "  CROSS JOIN calendar_months c\n",
        "),\n",
        "activity_monthly AS (\n",
        "  SELECT\n",
        "    user_id,\n",
        "    DATE_TRUNC(DATE(watch_date), MONTH) AS month,\n",
        "    COUNT(*) AS sessions,\n",
        "    SUM(watch_duration_minutes) AS minutes,\n",
        "    COUNT(DISTINCT DATE(watch_date)) AS unique_days_watched, -- New feature: unique days watched\n",
        "    AVG(watch_duration_minutes) AS avg_watch_duration -- New feature: average watch duration\n",
        "  FROM `{PROJECT_ID}.{DATASET}.watch_history`\n",
        "  GROUP BY 1, 2\n",
        "),\n",
        "activity_filled AS (\n",
        "  SELECT\n",
        "    g.user_id,\n",
        "    g.month,\n",
        "    COALESCE(a.sessions, 0) AS sessions,\n",
        "    COALESCE(a.minutes, 0)  AS minutes,\n",
        "    COALESCE(a.unique_days_watched, 0) AS unique_days_watched, -- New feature\n",
        "    COALESCE(a.avg_watch_duration, 0) AS avg_watch_duration -- New feature\n",
        "  FROM user_month_grid g\n",
        "  LEFT JOIN activity_monthly a USING (user_id, month)\n",
        "),\n",
        "activity_roll3 AS (\n",
        "  SELECT\n",
        "    user_id,\n",
        "    month,\n",
        "    sessions,\n",
        "    minutes,\n",
        "    unique_days_watched, -- Include new feature\n",
        "    avg_watch_duration, -- Include new feature\n",
        "    -- Calculate days since last watch based on the current month and the previous month\n",
        "    DATE_DIFF(month, LAG(month, 1, '1900-01-01') OVER (PARTITION BY user_id ORDER BY month), DAY) AS days_since_last_month_start, -- Days since the start of the previous month\n",
        "    SUM(sessions) OVER (\n",
        "      PARTITION BY user_id ORDER BY month\n",
        "      ROWS BETWEEN 2 PRECEDING AND CURRENT ROW\n",
        "    ) AS r3_sess,\n",
        "    SUM(minutes) OVER (\n",
        "      PARTITION BY user_id ORDER BY month\n",
        "      ROWS BETWEEN 2 PRECEDING AND CURRENT ROW\n",
        "    ) AS r3_min\n",
        "  FROM activity_filled\n",
        "),\n",
        "labels_next_month AS (\n",
        "  SELECT\n",
        "    user_id,\n",
        "    month,\n",
        "    LEAD(CASE WHEN sessions > 0 THEN 1 ELSE 0 END)\n",
        "      OVER (PARTITION BY user_id ORDER BY month) AS active_next_month\n",
        "    FROM activity_filled\n",
        "),\n",
        "user_attrs_lite AS (\n",
        "  SELECT user_id, subscription_plan, country, age\n",
        "  FROM `{PROJECT_ID}.{DATASET}.users`\n",
        ")\n",
        "SELECT\n",
        "  r.user_id,\n",
        "  r.month,\n",
        "  r.r3_sess,\n",
        "  r.r3_min,\n",
        "  r.unique_days_watched, -- Include new feature\n",
        "  r.avg_watch_duration, -- Include new feature\n",
        "  r.days_since_last_month_start, -- Include new feature\n",
        "  u.subscription_plan,\n",
        "  u.country,\n",
        "  u.age,\n",
        "  CASE\n",
        "    WHEN l.active_next_month = 1 THEN 0\n",
        "    WHEN l.active_next_month = 0 THEN 1\n",
        "    ELSE NULL\n",
        "  END AS churn_next_month\n",
        "FROM activity_roll3 r\n",
        "JOIN user_attrs_lite u USING (user_id)\n",
        "JOIN labels_next_month l USING (user_id, month)\n",
        "WHERE l.active_next_month IS NOT NULL;\n",
        "\"\"\"\n",
        "bq.query(sql).result()\n",
        "print(\"✓ feat_churn_lite with new features\")\n",
        "\n",
        "sql = f\"\"\"\n",
        "SELECT *\n",
        "FROM `{PROJECT_ID}.{DATASET}.feat_churn_lite`\n",
        "LIMIT 5;\n",
        "\"\"\"\n",
        "bq.query(sql).result().to_dataframe()"
      ]
    },
    {
      "cell_type": "markdown",
      "id": "5d5fe09e",
      "metadata": {
        "id": "5d5fe09e"
      },
      "source": [
        "## Iterate on the model\n",
        "\n",
        "### Subtask:\n",
        "Retrain the BigQuery ML logistic regression model with the updated `feat_churn_lite` table containing the new features.\n"
      ]
    },
    {
      "cell_type": "markdown",
      "id": "52860068",
      "metadata": {
        "id": "52860068"
      },
      "source": [
        "**Reasoning**:\n",
        "Construct and execute the SQL query to retrain the BigQuery ML logistic regression model with the updated feat_churn_lite table, including the new features, and print a confirmation message.\n",
        "\n"
      ]
    },
    {
      "cell_type": "code",
      "execution_count": null,
      "id": "4a08f492",
      "metadata": {
        "colab": {
          "background_save": true
        },
        "id": "4a08f492"
      },
      "outputs": [],
      "source": [
        "sql = f\"\"\"\n",
        "CREATE OR REPLACE MODEL `{PROJECT_ID}.{DATASET}.churn_logreg_lite`\n",
        "OPTIONS (\n",
        "  model_type = 'logistic_reg',\n",
        "  input_label_cols = ['churn_next_month'],\n",
        "  data_split_method = 'SEQ',\n",
        "  data_split_col = 'month'\n",
        ") AS\n",
        "SELECT\n",
        "  churn_next_month,\n",
        "  r3_sess,\n",
        "  r3_min,\n",
        "  unique_days_watched,  -- Include new feature\n",
        "  avg_watch_duration,   -- Include new feature\n",
        "  days_since_last_month_start, -- Include new feature\n",
        "  subscription_plan,\n",
        "  country,\n",
        "  age,\n",
        "  month -- Include month for SEQ split\n",
        "FROM `{PROJECT_ID}.{DATASET}.feat_churn_lite`\n",
        "ORDER BY month; -- Order by month for sequential split\n",
        "\"\"\"\n",
        "bq.query(sql).result()\n",
        "print(\"✓ trained model:\", f\"{PROJECT_ID}.{DATASET}.churn_logreg_lite with new features\")"
      ]
    },
    {
      "cell_type": "markdown",
      "id": "be2f1f16",
      "metadata": {
        "id": "be2f1f16"
      },
      "source": [
        "## Evaluate the improved model\n",
        "\n",
        "### Subtask:\n",
        "Evaluate the performance of the retrained BigQuery ML model with the new features and compare it to the baseline model.\n"
      ]
    },
    {
      "cell_type": "markdown",
      "id": "12363faa",
      "metadata": {
        "id": "12363faa"
      },
      "source": [
        "**Reasoning**:\n",
        "Query the evaluation metrics, ROC curve data, PR curve data, and confusion matrix for the retrained model using ML.EVALUATE, ML.ROC_CURVE, ML.PR_CURVE, and ML.CONFUSION_MATRIX respectively, and then display the evaluation metrics and confusion matrix dataframes to assess the performance.\n",
        "\n"
      ]
    },
    {
      "cell_type": "code",
      "execution_count": null,
      "id": "XnHAtR6o1e8c",
      "metadata": {
        "colab": {
          "background_save": true
        },
        "id": "XnHAtR6o1e8c"
      },
      "outputs": [],
      "source": [
        "eval_df_retrained = bq.query(\n",
        "    f\"SELECT * FROM ML.EVALUATE(MODEL `{PROJECT_ID}.{DATASET}.churn_logreg_lite`);\"\n",
        ").result().to_dataframe()\n",
        "\n",
        "roc_df_retrained = bq.query(\n",
        "    f\"SELECT * FROM ML.ROC_CURVE(MODEL `{PROJECT_ID}.{DATASET}.churn_logreg_lite`);\"\n",
        ").result().to_dataframe()\n",
        "\n",
        "cm_df_retrained = bq.query(f\"\"\"\n",
        "SELECT *\n",
        "FROM ML.CONFUSION_MATRIX(\n",
        "  MODEL `{PROJECT_ID}.{DATASET}.churn_logreg_lite`,\n",
        "  (SELECT\n",
        "     churn_next_month,\n",
        "     r3_sess, r3_min, unique_days_watched, avg_watch_duration, days_since_last_month_start,\n",
        "     subscription_plan, country, age\n",
        "   FROM `{PROJECT_ID}.{DATASET}.feat_churn_lite`),\n",
        "  STRUCT(0.5 AS threshold)\n",
        ");\n",
        "\"\"\").result().to_dataframe()\n",
        "\n",
        "print(\"Retrained Model Evaluation Metrics:\")\n",
        "display(eval_df_retrained)\n",
        "\n",
        "print(\"\\nRetrained Model Confusion Matrix (Threshold = 0.5):\")\n",
        "display(cm_df_retrained)\n",
        "\n",
        "print(\"\\nBaseline Model Evaluation Metrics:\")\n",
        "display(eval_df)\n",
        "\n",
        "print(\"\\nBaseline Model Confusion Matrix (Threshold = 0.5):\")\n",
        "display(cm_df)"
      ]
    },
    {
      "cell_type": "markdown",
      "id": "ff0aeb9b",
      "metadata": {
        "id": "ff0aeb9b"
      },
      "source": [
        "## Refine features and model\n",
        "\n",
        "### Subtask:\n",
        "Refine the features or explore different modeling techniques if necessary, based on the evaluation results.\n"
      ]
    },
    {
      "cell_type": "markdown",
      "id": "9d5de363",
      "metadata": {
        "id": "9d5de363"
      },
      "source": [
        "**Reasoning**:\n",
        "Based on the lack of improvement with the new features and the limitations of a simple logistic regression model for this problem, I will explore a different model type available in BigQuery ML, specifically a boosted tree classifier, which is often more effective for complex classification tasks.\n",
        "\n"
      ]
    },
    {
      "cell_type": "code",
      "execution_count": null,
      "id": "57aefd8b",
      "metadata": {
        "colab": {
          "background_save": true
        },
        "id": "57aefd8b"
      },
      "outputs": [],
      "source": [
        "sql = f\"\"\"\n",
        "CREATE OR REPLACE MODEL `{PROJECT_ID}.{DATASET}.churn_boosted_tree_lite`\n",
        "OPTIONS (\n",
        "  model_type = 'BOOSTED_TREE_CLASSIFIER',\n",
        "  input_label_cols = ['churn_next_month'],\n",
        "  data_split_method = 'SEQ',\n",
        "  data_split_col = 'month'\n",
        ") AS\n",
        "SELECT\n",
        "  churn_next_month,\n",
        "  r3_sess,\n",
        "  r3_min,\n",
        "  unique_days_watched,\n",
        "  avg_watch_duration,\n",
        "  days_since_last_month_start,\n",
        "  subscription_plan,\n",
        "  country,\n",
        "  age,\n",
        "  month\n",
        "FROM `{PROJECT_ID}.{DATASET}.feat_churn_lite`\n",
        "ORDER BY month;\n",
        "\"\"\"\n",
        "bq.query(sql).result()\n",
        "print(\"✓ trained boosted tree model:\", f\"{PROJECT_ID}.{DATASET}.churn_boosted_tree_lite\")"
      ]
    },
    {
      "cell_type": "markdown",
      "id": "f8fbb885",
      "metadata": {
        "id": "f8fbb885"
      },
      "source": [
        "**Reasoning**:\n",
        "Now that the boosted tree model is trained, I need to evaluate its performance using ML.EVALUATE, ML.ROC_CURVE, and ML.CONFUSION_MATRIX and store the results for comparison with the previous models.\n",
        "\n"
      ]
    },
    {
      "cell_type": "code",
      "execution_count": null,
      "id": "a5a13bfa",
      "metadata": {
        "colab": {
          "background_save": true
        },
        "id": "a5a13bfa"
      },
      "outputs": [],
      "source": [
        "eval_df_new_model = bq.query(\n",
        "    f\"SELECT * FROM ML.EVALUATE(MODEL `{PROJECT_ID}.{DATASET}.churn_boosted_tree_lite`);\"\n",
        ").result().to_dataframe()\n",
        "\n",
        "roc_df_new_model = bq.query(\n",
        "    f\"SELECT * FROM ML.ROC_CURVE(MODEL `{PROJECT_ID}.{DATASET}.churn_boosted_tree_lite`);\"\n",
        ").result().to_dataframe()\n",
        "\n",
        "cm_df_new_model = bq.query(f\"\"\"\n",
        "SELECT *\n",
        "FROM ML.CONFUSION_MATRIX(\n",
        "  MODEL `{PROJECT_ID}.{DATASET}.churn_boosted_tree_lite`,\n",
        "  (SELECT\n",
        "     churn_next_month,\n",
        "     r3_sess, r3_min, unique_days_watched, avg_watch_duration, days_since_last_month_start,\n",
        "     subscription_plan, country, age\n",
        "   FROM `{PROJECT_ID}.{DATASET}.feat_churn_lite`),\n",
        "  STRUCT(0.5 AS threshold)\n",
        ");\n",
        "\"\"\").result().to_dataframe()\n",
        "\n",
        "print(\"New Boosted Tree Model Evaluation Metrics:\")\n",
        "display(eval_df_new_model)\n",
        "\n",
        "print(\"\\nNew Boosted Tree Model Confusion Matrix (Threshold = 0.5):\")\n",
        "display(cm_df_new_model)\n",
        "\n",
        "print(\"\\nRetrained Logistic Regression Model Evaluation Metrics:\")\n",
        "display(eval_df_retrained)\n",
        "\n",
        "print(\"\\nRetrained Logistic Regression Model Confusion Matrix (Threshold = 0.5):\")\n",
        "display(cm_df_retrained)\n",
        "\n",
        "print(\"\\nBaseline Logistic Regression Model Evaluation Metrics:\")\n",
        "display(eval_df)\n",
        "\n",
        "print(\"\\nBaseline Logistic Regression Model Confusion Matrix (Threshold = 0.5):\")\n",
        "display(cm_df)"
      ]
    },
    {
      "cell_type": "markdown",
      "id": "0ef93603",
      "metadata": {
        "id": "0ef93603"
      },
      "source": [
        "## Summary:\n",
        "\n",
        "### Data Analysis Key Findings\n",
        "\n",
        "*   The initial logistic regression model trained with existing features (`r3_sess`, `r3_min`, `subscription_plan`, `country`, `age`) showed poor performance, with an AUC of approximately 0.50 and a high log loss of 0.64. The model predicted the majority class (not churn) for all instances at a 0.5 threshold.\n",
        "*   New features were engineered from the `watch_history` and `users` tables, including `unique_days_watched`, `avg_watch_duration`, and `days_since_last_month_start`.\n",
        "*   Retraining the logistic regression model with these new features did not improve its performance. The evaluation metrics and confusion matrix remained identical to the baseline model, still predicting the majority class for all instances at a 0.5 threshold.\n",
        "*   Exploring a different model type, a boosted tree classifier was trained with the same feature set. This model also did not show significant improvement in overall performance metrics (AUC approximately 0.49, log loss approximately 0.65) compared to the logistic regression models.\n",
        "*   At a 0.5 threshold, the boosted tree model did predict a small number of churn instances correctly (30 True Positives) but also had a very high number of false positives (161144), indicating a strong bias towards predicting the majority class despite some ability to identify minority class instances.\n",
        "\n",
        "### Insights or Next Steps\n",
        "\n",
        "*   The current set of features, even with the additions from `watch_history`, may not be sufficiently discriminative to capture the complex patterns leading to churn. Further feature engineering focusing on more sophisticated behavioral metrics (e.g., content diversity, engagement recency weighted by time, specific event triggers) is needed.\n",
        "*   Investigating other BigQuery ML models or exploring hyperparameter tuning for the boosted tree model could potentially yield better results, although the feature set appears to be the primary limitation based on current performance.\n"
      ]
    }
  ],
  "metadata": {
    "colab": {
      "provenance": [],
      "include_colab_link": true
    },
    "kernelspec": {
      "display_name": "Python 3",
      "name": "python3"
    }
  },
  "nbformat": 4,
  "nbformat_minor": 5
}
